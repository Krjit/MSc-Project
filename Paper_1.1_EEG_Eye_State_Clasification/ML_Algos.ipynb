{
 "cells": [
  {
   "cell_type": "code",
   "execution_count": 37,
   "metadata": {},
   "outputs": [],
   "source": [
    "# Import libraries\n",
    "import pandas as pd\n",
    "import numpy as np\n",
    "from sklearn.model_selection import train_test_split\n",
    "from sklearn.preprocessing import RobustScaler, StandardScaler\n",
    "\n",
    "# Load dataset\n",
    "data = pd.read_csv('EEG_Eye_State.csv')\n",
    "# df1 = data[data.Class==1].sample(100)\n",
    "# df0 = data[data.Class==0].sample(100)\n",
    "\n",
    "# # Preprocess dataset\n",
    "# data.dropna(inplace=True)\n",
    "\n",
    "X = data.iloc[:,:-1].values\n",
    "y = data.iloc[:,-1].values\n",
    "\n",
    "\n",
    "# Define Up or Down Sampling\n",
    "# from imblearn.over_sampling import SMOTE\n",
    "# su = SMOTE(random_state=42)\n",
    "# X, y= su.fit_resample(X, y)\n",
    "\n",
    "scaler = RobustScaler()\n",
    "# X= scaler.fit_transform(X)\n",
    "X_train, X_test, y_train, y_test = train_test_split(X, y, test_size=0.1, random_state=0)\n",
    "\n",
    "X_train = scaler.fit_transform(X_train)\n",
    "X_test = scaler.transform(X_test)"
   ]
  },
  {
   "cell_type": "code",
   "execution_count": 38,
   "metadata": {},
   "outputs": [],
   "source": [
    "from sklearn.metrics import classification_report\n",
    "# from sklearn.neighbors import KNeighborsClassifier\n",
    "# model = KNeighborsClassifier()\n",
    "# y_pred= model.fit(X_train, y_train).predict(X_test)\n",
    "# print(classification_report(y_test, y_pred, digits=4))"
   ]
  },
  {
   "cell_type": "code",
   "execution_count": 39,
   "metadata": {},
   "outputs": [
    {
     "name": "stderr",
     "output_type": "stream",
     "text": [
      "C:\\Users\\91629\\AppData\\Roaming\\Python\\Python310\\site-packages\\sklearn\\utils\\deprecation.py:101: FutureWarning: Attribute `base_estimator_` was deprecated in version 1.2 and will be removed in 1.4. Use `estimator_` instead.\n",
      "  warnings.warn(msg, category=FutureWarning)\n"
     ]
    },
    {
     "name": "stdout",
     "output_type": "stream",
     "text": [
      "              precision    recall  f1-score   support\n",
      "\n",
      "           0     0.7220    0.6686    0.6943       676\n",
      "           1     0.7431    0.7883    0.7651       822\n",
      "\n",
      "    accuracy                         0.7343      1498\n",
      "   macro avg     0.7326    0.7285    0.7297      1498\n",
      "weighted avg     0.7336    0.7343    0.7331      1498\n",
      "\n"
     ]
    }
   ],
   "source": [
    "from statistics import LinearRegression\n",
    "from logitboost import LogitBoost\n",
    "from sklearn.tree import DecisionTreeRegressor\n",
    "model1 = LogitBoost()\n",
    "y_pred1= model1.fit(X_train, y_train).predict(X_test)\n",
    "print(classification_report(y_test, y_pred1, digits=4))"
   ]
  },
  {
   "cell_type": "code",
   "execution_count": 46,
   "metadata": {},
   "outputs": [],
   "source": [
    "from sklearn.cluster import KMeans\n",
    "from sklearn.decomposition import PCA\n",
    "from sklearn.linear_model import LogisticRegression, LinearRegression\n",
    "from sklearn.discriminant_analysis import LinearDiscriminantAnalysis\n",
    "from sklearn.ensemble import GradientBoostingClassifier, RandomForestClassifier\n",
    "from sklearn.neighbors import KNeighborsClassifier\n",
    "from sklearn.svm import SVC\n",
    "from sklearn.naive_bayes import GaussianNB  \n",
    "from sklearn.tree import DecisionTreeClassifier, DecisionTreeRegressor\n",
    "from logitboost import LogitBoost"
   ]
  },
  {
   "cell_type": "code",
   "execution_count": 47,
   "metadata": {},
   "outputs": [],
   "source": [
    "from scipy.stats import uniform as sp_randFloat\n",
    "from scipy.stats import randint as sp_randInt\n",
    "\n",
    "# Define parameters for optimization using dictionaries {parameter name: parameter list}\n",
    "LR_params =  {'C':[0.001, 0.1, 1, 5, 10]}\n",
    "KNN_params = {'n_neighbors':[1, 5, 10, 20, 50]}\n",
    "SVM_params = {'C':[0.001, 0.1, 1, 10, 100], 'kernel':['rbf' ,'linear', 'poly']} # 'sigmoid'\n",
    "NB_params = {'var_smoothing': np.logspace(0,-9, num=100)}\n",
    "DTC_params = {'criterion':['entropy', 'gini'], 'max_depth':[10, 50, 100]}\n",
    "GBT_params = {  'learning_rate': sp_randFloat(), # sp_randFloat(),\n",
    "\t\t\t\t'subsample'    : sp_randFloat(), # sp_randFloat(),\n",
    "\t\t\t\t'n_estimators' : sp_randInt(100, 1000), # sp_randInt(100, 1000),\n",
    "\t\t\t\t'max_depth'    : sp_randInt(4, 10)} # sp_randInt(4, 10)}\n",
    "LB_params=  {'n_estimators':[10, 50, 100], \n",
    "             'base_estimator': [DecisionTreeRegressor(max_depth=1), LinearRegression()]}\n",
    "RF_params =  {'n_estimators':[10,50,100], 'criterion':['entropy', 'gini']} \n",
    "LDA_params = {'n_components':[None, 1], 'solver': ['svd', 'lsqr', 'eigen']}\n",
    "\n",
    "# Append list of models with parameter dictionaries\n",
    "models_opt = []\n",
    "models_opt.append(('LR',  LogisticRegression(), LR_params))\n",
    "models_opt.append(('KNN', KNeighborsClassifier(),KNN_params))\n",
    "# models_opt.append(('SVM', SVC(), SVM_params))\n",
    "models_opt.append(('NB', GaussianNB(), NB_params))\n",
    "models_opt.append(('DTC', DecisionTreeClassifier(), DTC_params))\n",
    "models_opt.append(('GBT', GradientBoostingClassifier(), GBT_params))\n",
    "models_opt.append(('LB', LogitBoost(), LB_params))\n",
    "models_opt.append(('RFC', RandomForestClassifier(), RF_params))\n",
    "models_opt.append(('LDA', LinearDiscriminantAnalysis(), LDA_params))"
   ]
  },
  {
   "cell_type": "code",
   "execution_count": 48,
   "metadata": {},
   "outputs": [
    {
     "name": "stdout",
     "output_type": "stream",
     "text": [
      "LR_train_Accuracy: 0.640231419670672\n",
      "LR_test_Accuracy: 0.6381842456608812\n",
      "\n",
      "KNN_train_Accuracy: 0.9705384957721407\n",
      "KNN_test_Accuracy: 0.9465954606141522\n",
      "\n",
      "NB_train_Accuracy: 0.5546061415220294\n",
      "NB_test_Accuracy: 0.5409879839786382\n",
      "\n",
      "DTC_train_Accuracy: 1.0\n",
      "DTC_test_Accuracy: 0.8347129506008011\n",
      "\n",
      "LB_train_Accuracy: 0.7610146862483311\n",
      "LB_test_Accuracy: 0.7471295060080106\n",
      "\n",
      "RFC_train_Accuracy: 1.0\n",
      "RFC_test_Accuracy: 0.92630173564753\n",
      "\n",
      "LDA_train_Accuracy: 0.6410324877614597\n",
      "LDA_test_Accuracy: 0.636849132176235\n",
      "\n"
     ]
    }
   ],
   "source": [
    "# Make predictions on the train and test data\n",
    "from sklearn.metrics import accuracy_score\n",
    "\n",
    "for name, model, _ in models_opt:\n",
    "    model.fit(X_train, y_train)\n",
    "    y_pred = model.predict(X_test)\n",
    "\n",
    "    # Calculate the accuracy of the model\n",
    "    accuracy = accuracy_score(y_test, y_pred)\n",
    "\n",
    "    print(f\"{name}_train_Accuracy:\", model.score(X_train, y_train))\n",
    "    print(f\"{name}_test_Accuracy:\", accuracy)\n",
    "    print()"
   ]
  },
  {
   "cell_type": "code",
   "execution_count": 49,
   "metadata": {},
   "outputs": [],
   "source": [
    "from sklearn.model_selection import GridSearchCV, RandomizedSearchCV, cross_val_score #, KFold, LeaveOneOut, StratifiedKFold, cross_val_score\n",
    "\n",
    "def estimator_function(X_train, y_train, parameter_dictionary, scoring = 'accuracy'):\n",
    "\tfor name, model, params in parameter_dictionary:\n",
    "\t\t# CV = KFold(n_splits=5, random_state=2, shuffle=True)\n",
    "\t\t# CV = StratifiedKFold(n_splits=5,  shuffle=True)\n",
    "\t\t# CV = LeaveOneOut()\n",
    "\t\t\n",
    "\t\t# model_grid = GridSearchCV(model, params)\n",
    "\t\tmodel_grid = RandomizedSearchCV(model, params, n_iter=5)\n",
    "\t\t\n",
    "\t\tcv_results = cross_val_score(model, X_train, y_train, cv = 4, scoring=scoring)\n",
    "\n",
    "\t\tmodel_grid.fit(X_train, y_train)\n",
    "\t\tbest_params = model_grid.best_params_\n",
    "\n",
    "\t\tmean_acc= cv_results.mean()\n",
    "\t\tsd_acc = cv_results.std()\n",
    "\n",
    "\t\tmodel_cv_res_df = pd.DataFrame(model_grid.cv_results_)\n",
    "\t\tmodel_cv_res_df.to_csv(f\"{name}_cv_results.csv\")\n",
    "\t\t\n",
    "\t\tprint(f\"\\nCross Validation {name}->\\n Mean Accuracy:{mean_acc}\\n Std. Accuracy:{sd_acc}\\n Best Parameters:{best_params}\")"
   ]
  },
  {
   "cell_type": "code",
   "execution_count": 50,
   "metadata": {},
   "outputs": [
    {
     "name": "stdout",
     "output_type": "stream",
     "text": [
      "\n",
      "Cross Validation LR->\n",
      " Mean Accuracy:0.6395188276084502\n",
      " Std. Accuracy:0.0061175681990744135\n",
      " Best Parameters:{'C': 0.1}\n",
      "\n",
      "Cross Validation KNN->\n",
      " Mean Accuracy:0.9330666259956043\n",
      " Std. Accuracy:0.0032174827887807476\n",
      " Best Parameters:{'n_neighbors': 1}\n",
      "\n",
      "Cross Validation NB->\n",
      " Mean Accuracy:0.533691214594116\n",
      " Std. Accuracy:0.037656232594995294\n",
      " Best Parameters:{'var_smoothing': 1.2328467394420658e-05}\n",
      "\n",
      "Cross Validation DTC->\n",
      " Mean Accuracy:0.8283941383465236\n",
      " Std. Accuracy:0.0068164682877037905\n",
      " Best Parameters:{'max_depth': 50, 'criterion': 'entropy'}\n",
      "\n",
      "Cross Validation LB->\n",
      " Mean Accuracy:0.7429470951631864\n",
      " Std. Accuracy:0.008542592197517795\n",
      " Best Parameters:{'n_estimators': 100, 'base_estimator': DecisionTreeRegressor(max_depth=1)}\n",
      "\n",
      "Cross Validation RFC->\n",
      " Mean Accuracy:0.9182022274759903\n",
      " Std. Accuracy:0.004802146967654383\n",
      " Best Parameters:{'n_estimators': 100, 'criterion': 'gini'}\n",
      "\n",
      "Cross Validation LDA->\n",
      " Mean Accuracy:0.6391627339473548\n",
      " Std. Accuracy:0.0051549146810212715\n",
      " Best Parameters:{'solver': 'eigen', 'n_components': 1}\n"
     ]
    }
   ],
   "source": [
    "# Printing Accuracy\n",
    "estimator_function(X_train, y_train, models_opt, scoring = 'accuracy')"
   ]
  }
 ],
 "metadata": {
  "kernelspec": {
   "display_name": "Python 3",
   "language": "python",
   "name": "python3"
  },
  "language_info": {
   "codemirror_mode": {
    "name": "ipython",
    "version": 3
   },
   "file_extension": ".py",
   "mimetype": "text/x-python",
   "name": "python",
   "nbconvert_exporter": "python",
   "pygments_lexer": "ipython3",
   "version": "3.10.1"
  },
  "orig_nbformat": 4
 },
 "nbformat": 4,
 "nbformat_minor": 2
}
