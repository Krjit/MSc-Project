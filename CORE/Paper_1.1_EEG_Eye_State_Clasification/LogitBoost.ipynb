{
 "cells": [
  {
   "cell_type": "code",
   "execution_count": 1,
   "metadata": {},
   "outputs": [],
   "source": [
    "# Import Common Libraies\n",
    "import pandas as pd\n",
    "import numpy as np\n",
    "import warnings\n",
    "warnings.filterwarnings('ignore')\n",
    "from sklearn.preprocessing import RobustScaler#, MinMaxScaler, StandardScaler  \n",
    "from scipy.stats import randint#, uniform \n",
    "\n",
    "# For Hyperparameter Tuning\n",
    "from sklearn.model_selection import RandomizedSearchCV, train_test_split, cross_val_score\n",
    "from hyperopt import tpe, hp, fmin, STATUS_OK, Trials\n",
    "import optuna \n",
    "from optuna.samplers import TPESampler\n",
    "from sklearn_nature_inspired_algorithms.model_selection import NatureInspiredSearchCV\n",
    "from niapy.algorithms.basic import CuckooSearch#, ParticleSwarmAlgorithm\n",
    "\n",
    "# For Machine learning Model\n",
    "# from sklearn.neighbors import KNeighborsClassifier\n",
    "from logitboost import LogitBoost"
   ]
  },
  {
   "cell_type": "code",
   "execution_count": 2,
   "metadata": {},
   "outputs": [],
   "source": [
    "# # For Deep learning Model\n",
    "# from keras.models import Sequential, Model\n",
    "# from keras.layers import Dense, Dropout, LeakyReLU, Input, Lambda\n",
    "# from keras.wrappers.scikit_learn import KerasClassifier\n",
    "# from keras import backend as K\n",
    "# import keras "
   ]
  },
  {
   "cell_type": "code",
   "execution_count": 2,
   "metadata": {},
   "outputs": [
    {
     "data": {
      "text/plain": [
       "'c:\\\\Users\\\\91629\\\\OneDrive\\\\MSC 4TH SEM\\\\MSC_THESIS_of_Kumarjit_Gupta_(Roll-573)\\\\Paper_1.1_EEG_Eye_State_Clasification'"
      ]
     },
     "execution_count": 2,
     "metadata": {},
     "output_type": "execute_result"
    }
   ],
   "source": [
    "import os \n",
    "os.getcwd()"
   ]
  },
  {
   "cell_type": "code",
   "execution_count": 3,
   "metadata": {},
   "outputs": [
    {
     "name": "stdout",
     "output_type": "stream",
     "text": [
      "(14980, 15)\n"
     ]
    },
    {
     "data": {
      "text/html": [
       "<div>\n",
       "<style scoped>\n",
       "    .dataframe tbody tr th:only-of-type {\n",
       "        vertical-align: middle;\n",
       "    }\n",
       "\n",
       "    .dataframe tbody tr th {\n",
       "        vertical-align: top;\n",
       "    }\n",
       "\n",
       "    .dataframe thead th {\n",
       "        text-align: right;\n",
       "    }\n",
       "</style>\n",
       "<table border=\"1\" class=\"dataframe\">\n",
       "  <thead>\n",
       "    <tr style=\"text-align: right;\">\n",
       "      <th></th>\n",
       "      <th>AF3</th>\n",
       "      <th>F7</th>\n",
       "      <th>F3</th>\n",
       "      <th>FC5</th>\n",
       "      <th>T7</th>\n",
       "      <th>P7</th>\n",
       "      <th>O1</th>\n",
       "      <th>O2</th>\n",
       "      <th>P8</th>\n",
       "      <th>T8</th>\n",
       "      <th>FC6</th>\n",
       "      <th>F4</th>\n",
       "      <th>F8</th>\n",
       "      <th>AF4</th>\n",
       "      <th>eyeDetection</th>\n",
       "    </tr>\n",
       "  </thead>\n",
       "  <tbody>\n",
       "    <tr>\n",
       "      <th>0</th>\n",
       "      <td>4329.23</td>\n",
       "      <td>4009.23</td>\n",
       "      <td>4289.23</td>\n",
       "      <td>4148.21</td>\n",
       "      <td>4350.26</td>\n",
       "      <td>4586.15</td>\n",
       "      <td>4096.92</td>\n",
       "      <td>4641.03</td>\n",
       "      <td>4222.05</td>\n",
       "      <td>4238.46</td>\n",
       "      <td>4211.28</td>\n",
       "      <td>4280.51</td>\n",
       "      <td>4635.90</td>\n",
       "      <td>4393.85</td>\n",
       "      <td>0</td>\n",
       "    </tr>\n",
       "    <tr>\n",
       "      <th>1</th>\n",
       "      <td>4324.62</td>\n",
       "      <td>4004.62</td>\n",
       "      <td>4293.85</td>\n",
       "      <td>4148.72</td>\n",
       "      <td>4342.05</td>\n",
       "      <td>4586.67</td>\n",
       "      <td>4097.44</td>\n",
       "      <td>4638.97</td>\n",
       "      <td>4210.77</td>\n",
       "      <td>4226.67</td>\n",
       "      <td>4207.69</td>\n",
       "      <td>4279.49</td>\n",
       "      <td>4632.82</td>\n",
       "      <td>4384.10</td>\n",
       "      <td>0</td>\n",
       "    </tr>\n",
       "    <tr>\n",
       "      <th>2</th>\n",
       "      <td>4327.69</td>\n",
       "      <td>4006.67</td>\n",
       "      <td>4295.38</td>\n",
       "      <td>4156.41</td>\n",
       "      <td>4336.92</td>\n",
       "      <td>4583.59</td>\n",
       "      <td>4096.92</td>\n",
       "      <td>4630.26</td>\n",
       "      <td>4207.69</td>\n",
       "      <td>4222.05</td>\n",
       "      <td>4206.67</td>\n",
       "      <td>4282.05</td>\n",
       "      <td>4628.72</td>\n",
       "      <td>4389.23</td>\n",
       "      <td>0</td>\n",
       "    </tr>\n",
       "  </tbody>\n",
       "</table>\n",
       "</div>"
      ],
      "text/plain": [
       "       AF3       F7       F3      FC5       T7       P7       O1       O2  \\\n",
       "0  4329.23  4009.23  4289.23  4148.21  4350.26  4586.15  4096.92  4641.03   \n",
       "1  4324.62  4004.62  4293.85  4148.72  4342.05  4586.67  4097.44  4638.97   \n",
       "2  4327.69  4006.67  4295.38  4156.41  4336.92  4583.59  4096.92  4630.26   \n",
       "\n",
       "        P8       T8      FC6       F4       F8      AF4  eyeDetection  \n",
       "0  4222.05  4238.46  4211.28  4280.51  4635.90  4393.85             0  \n",
       "1  4210.77  4226.67  4207.69  4279.49  4632.82  4384.10             0  \n",
       "2  4207.69  4222.05  4206.67  4282.05  4628.72  4389.23             0  "
      ]
     },
     "execution_count": 3,
     "metadata": {},
     "output_type": "execute_result"
    }
   ],
   "source": [
    "os.chdir(\"..\")\n",
    "# os.chdir(\"C:/Users/kj/OneDrive/MSC 4TH SEM\\MSC_THESIS_of_Kumarjit_Gupta_(Roll-573)\")\n",
    "\n",
    "# Own Library\n",
    "from Own_Library.ClassifierAnalysis import Splitings, Feature_Selections, Cross_Validations,\\\n",
    "find_reports, best_max_find, best_min_find\n",
    "from Own_Library.GroupBarPlt_test import groupBarPlot\n",
    "from Own_Library.Classification_Reports import classification_reports\n",
    "\n",
    "# Load dataset into the memory\n",
    "data = pd.read_csv('Dataset\\EEG_Eye_State.csv')\n",
    "\n",
    "print(data.shape)\n",
    "data.head(3)"
   ]
  },
  {
   "cell_type": "code",
   "execution_count": 5,
   "metadata": {},
   "outputs": [],
   "source": [
    "# Select independent features\n",
    "X = data.iloc[:,:-1]#.values\n",
    "\n",
    "# Select Dependent features\n",
    "y = data.iloc[:,-1]#.values"
   ]
  },
  {
   "cell_type": "code",
   "execution_count": 6,
   "metadata": {},
   "outputs": [],
   "source": [
    "scaler = RobustScaler()\n",
    "# X = scaler.fit_transform(X)"
   ]
  },
  {
   "cell_type": "code",
   "execution_count": 7,
   "metadata": {},
   "outputs": [],
   "source": [
    "splits = [0.1, 0.2, 0.25]"
   ]
  },
  {
   "attachments": {},
   "cell_type": "markdown",
   "metadata": {},
   "source": [
    "# Model 2: Logit Boost"
   ]
  },
  {
   "cell_type": "code",
   "execution_count": 8,
   "metadata": {},
   "outputs": [],
   "source": [
    "model_2 = LogitBoost()\n",
    "algoname_2= 'KNN'\n",
    "dim_2 = False"
   ]
  },
  {
   "cell_type": "markdown",
   "metadata": {},
   "source": [
    "## 1. All Split Checking\n",
    "- 1.1. Train 90%, Test 10%\n",
    "- 1.2. Train 80%, Test 20%\n",
    "- 1.3. Train 75%, Test 25%"
   ]
  },
  {
   "cell_type": "code",
   "execution_count": 9,
   "metadata": {},
   "outputs": [],
   "source": [
    "metrics_split = ['F1_Score', 'Markedness', 'Critical_Success_Index']"
   ]
  },
  {
   "cell_type": "code",
   "execution_count": 10,
   "metadata": {},
   "outputs": [
    {
     "name": "stdout",
     "output_type": "stream",
     "text": [
      "Technique matrix with total best reports: [0 0 3]\n",
      "Best test size:  0.25\n",
      "Spliting Classification Metrics DataFrame:\n"
     ]
    },
    {
     "data": {
      "text/html": [
       "<div>\n",
       "<style scoped>\n",
       "    .dataframe tbody tr th:only-of-type {\n",
       "        vertical-align: middle;\n",
       "    }\n",
       "\n",
       "    .dataframe tbody tr th {\n",
       "        vertical-align: top;\n",
       "    }\n",
       "\n",
       "    .dataframe thead th {\n",
       "        text-align: right;\n",
       "    }\n",
       "</style>\n",
       "<table border=\"1\" class=\"dataframe\">\n",
       "  <thead>\n",
       "    <tr style=\"text-align: right;\">\n",
       "      <th></th>\n",
       "      <th>Metrics</th>\n",
       "      <th>Train ratio: 0.9, Test ratio: 0.1</th>\n",
       "      <th>Train ratio: 0.8, Test ratio: 0.2</th>\n",
       "      <th>Train ratio: 0.75, Test ratio: 0.25</th>\n",
       "    </tr>\n",
       "  </thead>\n",
       "  <tbody>\n",
       "    <tr>\n",
       "      <th>0</th>\n",
       "      <td>F1_Score</td>\n",
       "      <td>0.735265</td>\n",
       "      <td>0.730920</td>\n",
       "      <td>0.739865</td>\n",
       "    </tr>\n",
       "    <tr>\n",
       "      <th>1</th>\n",
       "      <td>Markedness</td>\n",
       "      <td>0.479592</td>\n",
       "      <td>0.475596</td>\n",
       "      <td>0.491060</td>\n",
       "    </tr>\n",
       "    <tr>\n",
       "      <th>2</th>\n",
       "      <td>Critical_Success_Index</td>\n",
       "      <td>0.582684</td>\n",
       "      <td>0.577015</td>\n",
       "      <td>0.588049</td>\n",
       "    </tr>\n",
       "  </tbody>\n",
       "</table>\n",
       "</div>"
      ],
      "text/plain": [
       "                  Metrics  Train ratio: 0.9, Test ratio: 0.1  \\\n",
       "0                F1_Score                           0.735265   \n",
       "1              Markedness                           0.479592   \n",
       "2  Critical_Success_Index                           0.582684   \n",
       "\n",
       "   Train ratio: 0.8, Test ratio: 0.2  Train ratio: 0.75, Test ratio: 0.25  \n",
       "0                           0.730920                             0.739865  \n",
       "1                           0.475596                             0.491060  \n",
       "2                           0.577015                             0.588049  "
      ]
     },
     "execution_count": 10,
     "metadata": {},
     "output_type": "execute_result"
    },
    {
     "data": {
      "image/png": "[encoded data removed]",
      "text/plain": [
       "<Figure size 1000x700 with 1 Axes>"
      ]
     },
     "metadata": {},
     "output_type": "display_data"
    }
   ],
   "source": [
    "best_split_2, plotdf_split_2 = Splitings(model_2, X, y, splits, metrics_split, algoname_2, dim =dim_2)\n",
    "print('Spliting Classification Metrics DataFrame:') \n",
    "plotdf_split_2"
   ]
  },
  {
   "cell_type": "markdown",
   "metadata": {},
   "source": [
    "so the best spilit is (90,10) split for better metrics"
   ]
  },
  {
   "cell_type": "markdown",
   "metadata": {},
   "source": [
    "## 2. ALL Feature section checking\n",
    "- 2.1. Without Feature Selection \n",
    "- 2.2. Pearson Correlation\n",
    "- 2.3. Mutual info classif\n",
    "- 2.4. Chi-square"
   ]
  },
  {
   "cell_type": "code",
   "execution_count": 11,
   "metadata": {},
   "outputs": [],
   "source": [
    "metrics_fs= ['F1_Measure', 'Specificity', 'Negative_Predictive_Value']"
   ]
  },
  {
   "cell_type": "code",
   "execution_count": 12,
   "metadata": {},
   "outputs": [
    {
     "name": "stdout",
     "output_type": "stream",
     "text": [
      "Total Selected columns those are correlated above 5% with output column by pearson correlation: 2\n",
      "Technique matrix with total best reports: [3 0 0 0]\n",
      "Best Feature Selection Technique: Without\n",
      "Best Independent vector's Shape by feature Selection: (14980, 14)\n",
      "Deleted Columns: Not Applicable\n",
      "Feature Selections Classification Metrics DataFrame:\n"
     ]
    },
    {
     "data": {
      "text/html": [
       "<div>\n",
       "<style scoped>\n",
       "    .dataframe tbody tr th:only-of-type {\n",
       "        vertical-align: middle;\n",
       "    }\n",
       "\n",
       "    .dataframe tbody tr th {\n",
       "        vertical-align: top;\n",
       "    }\n",
       "\n",
       "    .dataframe thead th {\n",
       "        text-align: right;\n",
       "    }\n",
       "</style>\n",
       "<table border=\"1\" class=\"dataframe\">\n",
       "  <thead>\n",
       "    <tr style=\"text-align: right;\">\n",
       "      <th></th>\n",
       "      <th>Metrics</th>\n",
       "      <th>Without</th>\n",
       "      <th>Pearson Correlation</th>\n",
       "      <th>Mutual Info Classif</th>\n",
       "      <th>Chi_sqaure</th>\n",
       "    </tr>\n",
       "  </thead>\n",
       "  <tbody>\n",
       "    <tr>\n",
       "      <th>0</th>\n",
       "      <td>F1_Measure</td>\n",
       "      <td>0.742297</td>\n",
       "      <td>0.548223</td>\n",
       "      <td>0.667947</td>\n",
       "      <td>0.586627</td>\n",
       "    </tr>\n",
       "    <tr>\n",
       "      <th>1</th>\n",
       "      <td>Specificity</td>\n",
       "      <td>0.739064</td>\n",
       "      <td>0.540464</td>\n",
       "      <td>0.666440</td>\n",
       "      <td>0.578142</td>\n",
       "    </tr>\n",
       "    <tr>\n",
       "      <th>2</th>\n",
       "      <td>Negative_Predictive_Value</td>\n",
       "      <td>0.745530</td>\n",
       "      <td>0.555982</td>\n",
       "      <td>0.669454</td>\n",
       "      <td>0.595113</td>\n",
       "    </tr>\n",
       "  </tbody>\n",
       "</table>\n",
       "</div>"
      ],
      "text/plain": [
       "                     Metrics   Without  Pearson Correlation  \\\n",
       "0                 F1_Measure  0.742297             0.548223   \n",
       "1                Specificity  0.739064             0.540464   \n",
       "2  Negative_Predictive_Value  0.745530             0.555982   \n",
       "\n",
       "   Mutual Info Classif  Chi_sqaure  \n",
       "0             0.667947    0.586627  \n",
       "1             0.666440    0.578142  \n",
       "2             0.669454    0.595113  "
      ]
     },
     "execution_count": 12,
     "metadata": {},
     "output_type": "execute_result"
    },
    {
     "data": {
      "image/png": "[encoded data removed]",
      "text/plain": [
       "<Figure size 1000x700 with 1 Axes>"
      ]
     },
     "metadata": {},
     "output_type": "display_data"
    }
   ],
   "source": [
    "featX_2, plotdf_fs_2, del_cols_2 = Feature_Selections(model_2, data, best_split_2, metrics_fs, algoname_2, dim = dim_2)\n",
    "print(\"Best Independent vector's Shape by feature Selection:\", featX_2.shape)\n",
    "print(\"Deleted Columns:\", del_cols_2)\n",
    "print(\"Feature Selections Classification Metrics DataFrame:\")\n",
    "plotdf_fs_2"
   ]
  },
  {
   "cell_type": "code",
   "execution_count": 13,
   "metadata": {},
   "outputs": [],
   "source": [
    "X_train_2, X_test_2, y_train_2, y_test_2 = train_test_split(featX_2, y, test_size= best_split_2, random_state=42)\n",
    "X_train_2 = scaler.fit_transform(X_train_2)\n",
    "X_test_2 = scaler.transform(X_test_2)\n",
    "if dim_2:\n",
    "    X_train_2 = X_train_2.reshape((X_train_2.shape[0], 1, X_train_2.shape[1]))\n",
    "    X_test_2 = X_test_2.reshape((X_test_2.shape[0], 1, X_test_2.shape[1]))"
   ]
  },
  {
   "cell_type": "markdown",
   "metadata": {},
   "source": [
    "## 3. All CV CHECKING\n",
    "- 3.1.  Kfold\n",
    "- 3.2.  Stratified Kfold\n",
    "- 3.3.  Shuffle Split"
   ]
  },
  {
   "cell_type": "code",
   "execution_count": 14,
   "metadata": {},
   "outputs": [],
   "source": [
    "metrics_cv = ['balanced_accuracy', 'accuracy', 'roc_auc']"
   ]
  },
  {
   "cell_type": "code",
   "execution_count": 15,
   "metadata": {},
   "outputs": [
    {
     "name": "stdout",
     "output_type": "stream",
     "text": [
      "Technique matrix with total best reports: [3 0 0]\n",
      "Best CV technique: KFold(n_splits=4, random_state=42, shuffle=True)\n",
      "Spliting Classification Metrics DataFrame:\n"
     ]
    },
    {
     "data": {
      "text/html": [
       "<div>\n",
       "<style scoped>\n",
       "    .dataframe tbody tr th:only-of-type {\n",
       "        vertical-align: middle;\n",
       "    }\n",
       "\n",
       "    .dataframe tbody tr th {\n",
       "        vertical-align: top;\n",
       "    }\n",
       "\n",
       "    .dataframe thead th {\n",
       "        text-align: right;\n",
       "    }\n",
       "</style>\n",
       "<table border=\"1\" class=\"dataframe\">\n",
       "  <thead>\n",
       "    <tr style=\"text-align: right;\">\n",
       "      <th></th>\n",
       "      <th>Metrics</th>\n",
       "      <th>KFold</th>\n",
       "      <th>StratifiedKFold</th>\n",
       "      <th>ShuffleSplit</th>\n",
       "    </tr>\n",
       "  </thead>\n",
       "  <tbody>\n",
       "    <tr>\n",
       "      <th>0</th>\n",
       "      <td>mean_balanced_accuracy</td>\n",
       "      <td>0.737862</td>\n",
       "      <td>0.733935</td>\n",
       "      <td>0.732095</td>\n",
       "    </tr>\n",
       "    <tr>\n",
       "      <th>1</th>\n",
       "      <td>mean_accuracy</td>\n",
       "      <td>0.747309</td>\n",
       "      <td>0.743125</td>\n",
       "      <td>0.741456</td>\n",
       "    </tr>\n",
       "    <tr>\n",
       "      <th>2</th>\n",
       "      <td>mean_roc_auc</td>\n",
       "      <td>0.811009</td>\n",
       "      <td>0.809078</td>\n",
       "      <td>0.807063</td>\n",
       "    </tr>\n",
       "  </tbody>\n",
       "</table>\n",
       "</div>"
      ],
      "text/plain": [
       "                  Metrics     KFold  StratifiedKFold  ShuffleSplit\n",
       "0  mean_balanced_accuracy  0.737862         0.733935      0.732095\n",
       "1           mean_accuracy  0.747309         0.743125      0.741456\n",
       "2            mean_roc_auc  0.811009         0.809078      0.807063"
      ]
     },
     "execution_count": 15,
     "metadata": {},
     "output_type": "execute_result"
    },
    {
     "data": {
      "image/png": "[encoded data removed]",
      "text/plain": [
       "<Figure size 1000x700 with 1 Axes>"
      ]
     },
     "metadata": {},
     "output_type": "display_data"
    }
   ],
   "source": [
    "best_cv_2, plotdf_cv_2 = Cross_Validations(model_2, X_train_2, y_train_2, best_split_2, metrics_cv, algoname_2, dim =dim_2)\n",
    "print('Spliting Classification Metrics DataFrame:') \n",
    "plotdf_cv_2"
   ]
  },
  {
   "cell_type": "markdown",
   "metadata": {},
   "source": [
    "## 4. ALL Hyperparameter tuning checking\n",
    "- 4.1. Randomized Search CV (Normal Optimization)\n",
    "- 4.2. HyperOpt (Bayesian Optimization)\n",
    "- 4.3. Optuna (Asynchronous Distributed Optimization)\n",
    "- 4.4. Cuckoo Search (NIOA) "
   ]
  },
  {
   "cell_type": "code",
   "execution_count": 16,
   "metadata": {},
   "outputs": [],
   "source": [
    "hyp_tunes = ['RandomizedSearchCV', 'Hyperopt', 'Optuna', 'Cuckoo Search']\n",
    "metrics_hyp = ['Precision', 'Recall', 'Kappa']"
   ]
  },
  {
   "cell_type": "code",
   "execution_count": 17,
   "metadata": {},
   "outputs": [],
   "source": [
    "m_2 = [0 for _ in range(len(hyp_tunes))]\n",
    "dict_2= {'Metrics': metrics_hyp}"
   ]
  },
  {
   "cell_type": "code",
   "execution_count": 18,
   "metadata": {},
   "outputs": [],
   "source": [
    "from sklearn.linear_model import LinearRegression\n",
    "from sklearn.tree import DecisionTreeRegressor"
   ]
  },
  {
   "cell_type": "markdown",
   "metadata": {},
   "source": [
    "### 4.1. Using Randomized Search CV"
   ]
  },
  {
   "cell_type": "code",
   "execution_count": 19,
   "metadata": {},
   "outputs": [
    {
     "data": {
      "text/plain": [
       "({'base_estimator': DecisionTreeRegressor(max_depth=10), 'n_estimators': 70},\n",
       " 0.941165910550033)"
      ]
     },
     "execution_count": 19,
     "metadata": {},
     "output_type": "execute_result"
    }
   ],
   "source": [
    "# Hyperparameters\n",
    "param_grid_2 = {'n_estimators':randint(50, 500), #[10,50,100], \n",
    "               'base_estimator': [DecisionTreeRegressor(max_depth=10), LinearRegression()]\n",
    "               }\n",
    "\n",
    "# Random search for best hyperparameters\n",
    "search_2 = RandomizedSearchCV(model_2,\n",
    "                         param_grid_2,\n",
    "                         cv= best_cv_2,\n",
    "                         random_state=42, \n",
    "                         n_jobs=-1\n",
    "                        )\n",
    "\n",
    "search_2.fit(X_train_2, y_train_2)\n",
    "# Best parameters and best_score\n",
    "search_2.best_params_, search_2.best_score_"
   ]
  },
  {
   "cell_type": "code",
   "execution_count": 20,
   "metadata": {},
   "outputs": [],
   "source": [
    "# pd.DataFrame(search_2.cv_results_)"
   ]
  },
  {
   "cell_type": "code",
   "execution_count": 21,
   "metadata": {},
   "outputs": [],
   "source": [
    "# Retrain with best model\n",
    "best_random_search_2 = search_2.best_estimator_"
   ]
  },
  {
   "cell_type": "markdown",
   "metadata": {},
   "source": [
    "### 4.2. Using HyperOpt"
   ]
  },
  {
   "cell_type": "code",
   "execution_count": 24,
   "metadata": {},
   "outputs": [
    {
     "name": "stdout",
     "output_type": "stream",
     "text": [
      "100%|██████████| 10/10 [01:52<00:00, 11.25s/trial, best loss: -0.7787284068100195]\n",
      "Best params: {'n_estimators': 449}\n"
     ]
    }
   ],
   "source": [
    "# Define parameter space\n",
    "space_2 = {'n_estimators': hp.randint('n_estimators', 50, 500), #[10,50,100], \n",
    "           'base_estimator':hp.choice('base_estimator', [DecisionTreeRegressor(max_depth=10), LinearRegression()])\n",
    "            }\n",
    "\n",
    "def hyperparameter_tuning(params):\n",
    "    clf = LogitBoost(**params)#, n_jobs=-1)\n",
    "    acc = cross_val_score(clf, X_train_2, y_train_2, cv= best_cv_2).mean()\n",
    "    return {\"loss\": -acc, \"model\": clf, \"status\": STATUS_OK}\n",
    "\n",
    "# Fine tune the model\n",
    "trials1 = Trials()\n",
    "best_2 = fmin(\n",
    "    fn=hyperparameter_tuning,\n",
    "    space = space_2, \n",
    "    algo=tpe.suggest, \n",
    "    max_evals=10, \n",
    "    trials=trials1, \n",
    ")\n",
    "# best.best_params_\n",
    "print(\"Best params: {}\".format(best_2))"
   ]
  },
  {
   "cell_type": "code",
   "execution_count": 25,
   "metadata": {},
   "outputs": [],
   "source": [
    "# Retrain with best model\n",
    "best_hyperopt_2= trials1.results[np.argmin([r['loss'] for r in trials1.results])]['model']"
   ]
  },
  {
   "cell_type": "markdown",
   "metadata": {},
   "source": [
    "### 4.3. Using Optuna"
   ]
  },
  {
   "cell_type": "code",
   "execution_count": 27,
   "metadata": {},
   "outputs": [
    {
     "name": "stderr",
     "output_type": "stream",
     "text": [
      "\u001b[32m[I 2023-05-01 23:56:37,221]\u001b[0m A new study created in memory with name: KNN_optimization\u001b[0m\n",
      "\u001b[32m[I 2023-05-01 23:56:42,513]\u001b[0m Trial 0 finished with value: 0.7514029804991891 and parameters: {'n_estimators': 67}. Best is trial 0 with value: 0.7514029804991891.\u001b[0m\n",
      "\u001b[32m[I 2023-05-01 23:56:48,807]\u001b[0m Trial 2 finished with value: 0.7665340293054783 and parameters: {'n_estimators': 132}. Best is trial 2 with value: 0.7665340293054783.\u001b[0m\n",
      "\u001b[32m[I 2023-05-01 23:56:55,968]\u001b[0m Trial 3 finished with value: 0.7679582454747104 and parameters: {'n_estimators': 170}. Best is trial 3 with value: 0.7679582454747104.\u001b[0m\n",
      "\u001b[32m[I 2023-05-01 23:56:58,001]\u001b[0m Trial 1 finished with value: 0.7786392803858984 and parameters: {'n_estimators': 418}. Best is trial 1 with value: 0.7786392803858984.\u001b[0m\n",
      "\u001b[32m[I 2023-05-01 23:57:01,211]\u001b[0m Trial 4 finished with value: 0.7671571852886379 and parameters: {'n_estimators': 123}. Best is trial 1 with value: 0.7786392803858984.\u001b[0m\n",
      "\u001b[32m[I 2023-05-01 23:57:07,235]\u001b[0m Trial 6 finished with value: 0.7677801827966477 and parameters: {'n_estimators': 157}. Best is trial 1 with value: 0.7786392803858984.\u001b[0m\n",
      "\u001b[32m[I 2023-05-01 23:57:16,435]\u001b[0m Trial 5 finished with value: 0.7776600941317032 and parameters: {'n_estimators': 485}. Best is trial 1 with value: 0.7786392803858984.\u001b[0m\n",
      "\u001b[32m[I 2023-05-01 23:57:20,686]\u001b[0m Trial 7 finished with value: 0.7787282483348699 and parameters: {'n_estimators': 362}. Best is trial 7 with value: 0.7787282483348699.\u001b[0m\n",
      "\u001b[32m[I 2023-05-01 23:57:28,729]\u001b[0m Trial 8 finished with value: 0.7773040004706078 and parameters: {'n_estimators': 317}. Best is trial 7 with value: 0.7787282483348699.\u001b[0m\n",
      "\u001b[32m[I 2023-05-01 23:57:32,313]\u001b[0m Trial 9 finished with value: 0.7744557583023228 and parameters: {'n_estimators': 291}. Best is trial 7 with value: 0.7787282483348699.\u001b[0m\n"
     ]
    },
    {
     "data": {
      "text/plain": [
       "({'n_estimators': 362}, 0.7787282483348699)"
      ]
     },
     "execution_count": 27,
     "metadata": {},
     "output_type": "execute_result"
    }
   ],
   "source": [
    "# Define the search space and the objecive function\n",
    "def objective(trial):\n",
    "    params = {'n_estimators': trial.suggest_int('n_estimators', 50, 500, 1), #[10,50,100], \n",
    "              # 'base_estimator':trial.suggest_categorical('base_estimator', [DecisionTreeRegressor(max_depth=10), LinearRegression()])\n",
    "            }\n",
    "    clf = LogitBoost(**params)#, n_jobs=-1)\n",
    "    score = cross_val_score(clf, X_train_2, y_train_2, scoring=\"accuracy\", cv= best_cv_2).mean()\n",
    "    return score\n",
    "\n",
    "# create a study object and pass the objective function to method optimize()\n",
    "study_2 = optuna.create_study(study_name=f\"{algoname_2}_optimization\",\n",
    "                            direction=\"maximize\",\n",
    "                            sampler=TPESampler())\n",
    "\n",
    "study_2.optimize(objective, n_trials=10, n_jobs=-1)\n",
    "# print best parameters \n",
    "study_2.best_params, study_2.best_value"
   ]
  },
  {
   "cell_type": "code",
   "execution_count": null,
   "metadata": {},
   "outputs": [
    {
     "data": {
      "application/vnd.plotly.v1+json": {
       "config": {
        "plotlyServerURL": "https://plot.ly"
       },
       "data": [
        {
         "mode": "markers",
         "name": "Objective Value",
         "type": "scatter",
         "x": [
          0,
          1,
          2,
          3,
          4,
          5,
          6,
          7,
          8,
          9
         ],
         "y": [
          0.9372496497020542,
          0.9304998427233713,
          0.9387326143335102,
          0.9411805755664708,
          0.9281261204584998,
          0.9574245017190444,
          0.9375463856070988,
          0.9295353960401485,
          0.9631354030791023,
          0.9304998427233713
         ]
        },
        {
         "name": "Best Value",
         "type": "scatter",
         "x": [
          0,
          1,
          2,
          3,
          4,
          5,
          6,
          7,
          8,
          9
         ],
         "y": [
          0.9372496497020542,
          0.9372496497020542,
          0.9387326143335102,
          0.9411805755664708,
          0.9411805755664708,
          0.9574245017190444,
          0.9574245017190444,
          0.9574245017190444,
          0.9631354030791023,
          0.9631354030791023
         ]
        }
       ],
       "layout": {
        "template": {
         "data": {
          "bar": [
           {
            "error_x": {
             "color": "#2a3f5f"
            },
            "error_y": {
             "color": "#2a3f5f"
            },
            "marker": {
             "line": {
              "color": "#E5ECF6",
              "width": 0.5
             },
             "pattern": {
              "fillmode": "overlay",
              "size": 10,
              "solidity": 0.2
             }
            },
            "type": "bar"
           }
          ],
          "barpolar": [
           {
            "marker": {
             "line": {
              "color": "#E5ECF6",
              "width": 0.5
             },
             "pattern": {
              "fillmode": "overlay",
              "size": 10,
              "solidity": 0.2
             }
            },
            "type": "barpolar"
           }
          ],
          "carpet": [
           {
            "aaxis": {
             "endlinecolor": "#2a3f5f",
             "gridcolor": "white",
             "linecolor": "white",
             "minorgridcolor": "white",
             "startlinecolor": "#2a3f5f"
            },
            "baxis": {
             "endlinecolor": "#2a3f5f",
             "gridcolor": "white",
             "linecolor": "white",
             "minorgridcolor": "white",
             "startlinecolor": "#2a3f5f"
            },
            "type": "carpet"
           }
          ],
          "choropleth": [
           {
            "colorbar": {
             "outlinewidth": 0,
             "ticks": ""
            },
            "type": "choropleth"
           }
          ],
          "contour": [
           {
            "colorbar": {
             "outlinewidth": 0,
             "ticks": ""
            },
            "colorscale": [
             [
              0,
              "#0d0887"
             ],
             [
              0.1111111111111111,
              "#46039f"
             ],
             [
              0.2222222222222222,
              "#7201a8"
             ],
             [
              0.3333333333333333,
              "#9c179e"
             ],
             [
              0.4444444444444444,
              "#bd3786"
             ],
             [
              0.5555555555555556,
              "#d8576b"
             ],
             [
              0.6666666666666666,
              "#ed7953"
             ],
             [
              0.7777777777777778,
              "#fb9f3a"
             ],
             [
              0.8888888888888888,
              "#fdca26"
             ],
             [
              1,
              "#f0f921"
             ]
            ],
            "type": "contour"
           }
          ],
          "contourcarpet": [
           {
            "colorbar": {
             "outlinewidth": 0,
             "ticks": ""
            },
            "type": "contourcarpet"
           }
          ],
          "heatmap": [
           {
            "colorbar": {
             "outlinewidth": 0,
             "ticks": ""
            },
            "colorscale": [
             [
              0,
              "#0d0887"
             ],
             [
              0.1111111111111111,
              "#46039f"
             ],
             [
              0.2222222222222222,
              "#7201a8"
             ],
             [
              0.3333333333333333,
              "#9c179e"
             ],
             [
              0.4444444444444444,
              "#bd3786"
             ],
             [
              0.5555555555555556,
              "#d8576b"
             ],
             [
              0.6666666666666666,
              "#ed7953"
             ],
             [
              0.7777777777777778,
              "#fb9f3a"
             ],
             [
              0.8888888888888888,
              "#fdca26"
             ],
             [
              1,
              "#f0f921"
             ]
            ],
            "type": "heatmap"
           }
          ],
          "heatmapgl": [
           {
            "colorbar": {
             "outlinewidth": 0,
             "ticks": ""
            },
            "colorscale": [
             [
              0,
              "#0d0887"
             ],
             [
              0.1111111111111111,
              "#46039f"
             ],
             [
              0.2222222222222222,
              "#7201a8"
             ],
             [
              0.3333333333333333,
              "#9c179e"
             ],
             [
              0.4444444444444444,
              "#bd3786"
             ],
             [
              0.5555555555555556,
              "#d8576b"
             ],
             [
              0.6666666666666666,
              "#ed7953"
             ],
             [
              0.7777777777777778,
              "#fb9f3a"
             ],
             [
              0.8888888888888888,
              "#fdca26"
             ],
             [
              1,
              "#f0f921"
             ]
            ],
            "type": "heatmapgl"
           }
          ],
          "histogram": [
           {
            "marker": {
             "pattern": {
              "fillmode": "overlay",
              "size": 10,
              "solidity": 0.2
             }
            },
            "type": "histogram"
           }
          ],
          "histogram2d": [
           {
            "colorbar": {
             "outlinewidth": 0,
             "ticks": ""
            },
            "colorscale": [
             [
              0,
              "#0d0887"
             ],
             [
              0.1111111111111111,
              "#46039f"
             ],
             [
              0.2222222222222222,
              "#7201a8"
             ],
             [
              0.3333333333333333,
              "#9c179e"
             ],
             [
              0.4444444444444444,
              "#bd3786"
             ],
             [
              0.5555555555555556,
              "#d8576b"
             ],
             [
              0.6666666666666666,
              "#ed7953"
             ],
             [
              0.7777777777777778,
              "#fb9f3a"
             ],
             [
              0.8888888888888888,
              "#fdca26"
             ],
             [
              1,
              "#f0f921"
             ]
            ],
            "type": "histogram2d"
           }
          ],
          "histogram2dcontour": [
           {
            "colorbar": {
             "outlinewidth": 0,
             "ticks": ""
            },
            "colorscale": [
             [
              0,
              "#0d0887"
             ],
             [
              0.1111111111111111,
              "#46039f"
             ],
             [
              0.2222222222222222,
              "#7201a8"
             ],
             [
              0.3333333333333333,
              "#9c179e"
             ],
             [
              0.4444444444444444,
              "#bd3786"
             ],
             [
              0.5555555555555556,
              "#d8576b"
             ],
             [
              0.6666666666666666,
              "#ed7953"
             ],
             [
              0.7777777777777778,
              "#fb9f3a"
             ],
             [
              0.8888888888888888,
              "#fdca26"
             ],
             [
              1,
              "#f0f921"
             ]
            ],
            "type": "histogram2dcontour"
           }
          ],
          "mesh3d": [
           {
            "colorbar": {
             "outlinewidth": 0,
             "ticks": ""
            },
            "type": "mesh3d"
           }
          ],
          "parcoords": [
           {
            "line": {
             "colorbar": {
              "outlinewidth": 0,
              "ticks": ""
             }
            },
            "type": "parcoords"
           }
          ],
          "pie": [
           {
            "automargin": true,
            "type": "pie"
           }
          ],
          "scatter": [
           {
            "fillpattern": {
             "fillmode": "overlay",
             "size": 10,
             "solidity": 0.2
            },
            "type": "scatter"
           }
          ],
          "scatter3d": [
           {
            "line": {
             "colorbar": {
              "outlinewidth": 0,
              "ticks": ""
             }
            },
            "marker": {
             "colorbar": {
              "outlinewidth": 0,
              "ticks": ""
             }
            },
            "type": "scatter3d"
           }
          ],
          "scattercarpet": [
           {
            "marker": {
             "colorbar": {
              "outlinewidth": 0,
              "ticks": ""
             }
            },
            "type": "scattercarpet"
           }
          ],
          "scattergeo": [
           {
            "marker": {
             "colorbar": {
              "outlinewidth": 0,
              "ticks": ""
             }
            },
            "type": "scattergeo"
           }
          ],
          "scattergl": [
           {
            "marker": {
             "colorbar": {
              "outlinewidth": 0,
              "ticks": ""
             }
            },
            "type": "scattergl"
           }
          ],
          "scattermapbox": [
           {
            "marker": {
             "colorbar": {
              "outlinewidth": 0,
              "ticks": ""
             }
            },
            "type": "scattermapbox"
           }
          ],
          "scatterpolar": [
           {
            "marker": {
             "colorbar": {
              "outlinewidth": 0,
              "ticks": ""
             }
            },
            "type": "scatterpolar"
           }
          ],
          "scatterpolargl": [
           {
            "marker": {
             "colorbar": {
              "outlinewidth": 0,
              "ticks": ""
             }
            },
            "type": "scatterpolargl"
           }
          ],
          "scatterternary": [
           {
            "marker": {
             "colorbar": {
              "outlinewidth": 0,
              "ticks": ""
             }
            },
            "type": "scatterternary"
           }
          ],
          "surface": [
           {
            "colorbar": {
             "outlinewidth": 0,
             "ticks": ""
            },
            "colorscale": [
             [
              0,
              "#0d0887"
             ],
             [
              0.1111111111111111,
              "#46039f"
             ],
             [
              0.2222222222222222,
              "#7201a8"
             ],
             [
              0.3333333333333333,
              "#9c179e"
             ],
             [
              0.4444444444444444,
              "#bd3786"
             ],
             [
              0.5555555555555556,
              "#d8576b"
             ],
             [
              0.6666666666666666,
              "#ed7953"
             ],
             [
              0.7777777777777778,
              "#fb9f3a"
             ],
             [
              0.8888888888888888,
              "#fdca26"
             ],
             [
              1,
              "#f0f921"
             ]
            ],
            "type": "surface"
           }
          ],
          "table": [
           {
            "cells": {
             "fill": {
              "color": "#EBF0F8"
             },
             "line": {
              "color": "white"
             }
            },
            "header": {
             "fill": {
              "color": "#C8D4E3"
             },
             "line": {
              "color": "white"
             }
            },
            "type": "table"
           }
          ]
         },
         "layout": {
          "annotationdefaults": {
           "arrowcolor": "#2a3f5f",
           "arrowhead": 0,
           "arrowwidth": 1
          },
          "autotypenumbers": "strict",
          "coloraxis": {
           "colorbar": {
            "outlinewidth": 0,
            "ticks": ""
           }
          },
          "colorscale": {
           "diverging": [
            [
             0,
             "#8e0152"
            ],
            [
             0.1,
             "#c51b7d"
            ],
            [
             0.2,
             "#de77ae"
            ],
            [
             0.3,
             "#f1b6da"
            ],
            [
             0.4,
             "#fde0ef"
            ],
            [
             0.5,
             "#f7f7f7"
            ],
            [
             0.6,
             "#e6f5d0"
            ],
            [
             0.7,
             "#b8e186"
            ],
            [
             0.8,
             "#7fbc41"
            ],
            [
             0.9,
             "#4d9221"
            ],
            [
             1,
             "#276419"
            ]
           ],
           "sequential": [
            [
             0,
             "#0d0887"
            ],
            [
             0.1111111111111111,
             "#46039f"
            ],
            [
             0.2222222222222222,
             "#7201a8"
            ],
            [
             0.3333333333333333,
             "#9c179e"
            ],
            [
             0.4444444444444444,
             "#bd3786"
            ],
            [
             0.5555555555555556,
             "#d8576b"
            ],
            [
             0.6666666666666666,
             "#ed7953"
            ],
            [
             0.7777777777777778,
             "#fb9f3a"
            ],
            [
             0.8888888888888888,
             "#fdca26"
            ],
            [
             1,
             "#f0f921"
            ]
           ],
           "sequentialminus": [
            [
             0,
             "#0d0887"
            ],
            [
             0.1111111111111111,
             "#46039f"
            ],
            [
             0.2222222222222222,
             "#7201a8"
            ],
            [
             0.3333333333333333,
             "#9c179e"
            ],
            [
             0.4444444444444444,
             "#bd3786"
            ],
            [
             0.5555555555555556,
             "#d8576b"
            ],
            [
             0.6666666666666666,
             "#ed7953"
            ],
            [
             0.7777777777777778,
             "#fb9f3a"
            ],
            [
             0.8888888888888888,
             "#fdca26"
            ],
            [
             1,
             "#f0f921"
            ]
           ]
          },
          "colorway": [
           "#636efa",
           "#EF553B",
           "#00cc96",
           "#ab63fa",
           "#FFA15A",
           "#19d3f3",
           "#FF6692",
           "#B6E880",
           "#FF97FF",
           "#FECB52"
          ],
          "font": {
           "color": "#2a3f5f"
          },
          "geo": {
           "bgcolor": "white",
           "lakecolor": "white",
           "landcolor": "#E5ECF6",
           "showlakes": true,
           "showland": true,
           "subunitcolor": "white"
          },
          "hoverlabel": {
           "align": "left"
          },
          "hovermode": "closest",
          "mapbox": {
           "style": "light"
          },
          "paper_bgcolor": "white",
          "plot_bgcolor": "#E5ECF6",
          "polar": {
           "angularaxis": {
            "gridcolor": "white",
            "linecolor": "white",
            "ticks": ""
           },
           "bgcolor": "#E5ECF6",
           "radialaxis": {
            "gridcolor": "white",
            "linecolor": "white",
            "ticks": ""
           }
          },
          "scene": {
           "xaxis": {
            "backgroundcolor": "#E5ECF6",
            "gridcolor": "white",
            "gridwidth": 2,
            "linecolor": "white",
            "showbackground": true,
            "ticks": "",
            "zerolinecolor": "white"
           },
           "yaxis": {
            "backgroundcolor": "#E5ECF6",
            "gridcolor": "white",
            "gridwidth": 2,
            "linecolor": "white",
            "showbackground": true,
            "ticks": "",
            "zerolinecolor": "white"
           },
           "zaxis": {
            "backgroundcolor": "#E5ECF6",
            "gridcolor": "white",
            "gridwidth": 2,
            "linecolor": "white",
            "showbackground": true,
            "ticks": "",
            "zerolinecolor": "white"
           }
          },
          "shapedefaults": {
           "line": {
            "color": "#2a3f5f"
           }
          },
          "ternary": {
           "aaxis": {
            "gridcolor": "white",
            "linecolor": "white",
            "ticks": ""
           },
           "baxis": {
            "gridcolor": "white",
            "linecolor": "white",
            "ticks": ""
           },
           "bgcolor": "#E5ECF6",
           "caxis": {
            "gridcolor": "white",
            "linecolor": "white",
            "ticks": ""
           }
          },
          "title": {
           "x": 0.05
          },
          "xaxis": {
           "automargin": true,
           "gridcolor": "white",
           "linecolor": "white",
           "ticks": "",
           "title": {
            "standoff": 15
           },
           "zerolinecolor": "white",
           "zerolinewidth": 2
          },
          "yaxis": {
           "automargin": true,
           "gridcolor": "white",
           "linecolor": "white",
           "ticks": "",
           "title": {
            "standoff": 15
           },
           "zerolinecolor": "white",
           "zerolinewidth": 2
          }
         }
        },
        "title": {
         "text": "Optimization History Plot"
        },
        "xaxis": {
         "title": {
          "text": "Trial"
         }
        },
        "yaxis": {
         "title": {
          "text": "Objective Value"
         }
        }
       }
      }
     },
     "metadata": {},
     "output_type": "display_data"
    }
   ],
   "source": [
    "# Plot optimization history of all trials in a study.\n",
    "optuna.visualization.plot_optimization_history(study_2)"
   ]
  },
  {
   "cell_type": "code",
   "execution_count": null,
   "metadata": {},
   "outputs": [],
   "source": [
    "# Retrain with best model\n",
    "best_optuna_2 = LogitBoost(**study_2.best_params)"
   ]
  },
  {
   "cell_type": "markdown",
   "metadata": {},
   "source": [
    "### Using Cuckoo Search"
   ]
  },
  {
   "cell_type": "code",
   "execution_count": null,
   "metadata": {},
   "outputs": [
    {
     "name": "stdout",
     "output_type": "stream",
     "text": [
      "Fitting KFold(n_splits=10, random_state=42, shuffle=True) folds for some of the 27 candidates, which might total in 270 fits\n",
      "Optimization finished, 27 candidates were fitted (totalling 270 fits)\n"
     ]
    },
    {
     "data": {
      "text/plain": [
       "({'n_neighbors': 3}, 0.9689954972691058)"
      ]
     },
     "metadata": {},
     "output_type": "display_data"
    }
   ],
   "source": [
    "params_2 = {'n_estimators':randint(50, 500), #[10,50,100], \n",
    "             'base_estimator': [DecisionTreeRegressor(max_depth=10), LinearRegression()]}\n",
    "\n",
    "algorithm_2 = CuckooSearch() # when custom algorithm is provided random_state is ignored\n",
    "algorithm_2.set_parameters(NP=50, Ts=5, Mr=0.25)\n",
    "\n",
    "nia_search_2 = NatureInspiredSearchCV(\n",
    "    model_2,\n",
    "    params_2,\n",
    "    algorithm=algorithm_2,\n",
    "    scoring= 'accuracy',\n",
    "    n_jobs=-1,    \n",
    "    cv= best_cv_2,\n",
    "    verbose=0,\n",
    "    random_state=42,\n",
    "    return_train_score=False\n",
    ")\n",
    "\n",
    "nia_search_2.fit(X_train_2, y_train_2)\n",
    "\n",
    "# Best Params and score\n",
    "nia_search_2.best_params_, nia_search_2.best_score_"
   ]
  },
  {
   "cell_type": "code",
   "execution_count": null,
   "metadata": {},
   "outputs": [
    {
     "data": {
      "text/plain": [
       "<Axes: xlabel='generation', ylabel='max score'>"
      ]
     },
     "metadata": {},
     "output_type": "display_data"
    },
    {
     "data": {
      "image/png": "[encoded data removed]",
      "text/plain": [
       "<Figure size 1000x700 with 1 Axes>"
      ]
     },
     "metadata": {},
     "output_type": "display_data"
    }
   ],
   "source": [
    "from sklearn_nature_inspired_algorithms.helpers import score_by_generation_lineplot, score_by_generation_violinplot\n",
    "score_by_generation_lineplot(nia_search_2, metric='max', ax=None, ylim=None)"
   ]
  },
  {
   "cell_type": "code",
   "execution_count": null,
   "metadata": {},
   "outputs": [
    {
     "data": {
      "text/plain": [
       "<Axes: xlabel='generation', ylabel='score'>"
      ]
     },
     "metadata": {},
     "output_type": "display_data"
    },
    {
     "data": {
      "image/png": "[encoded data removed]",
      "text/plain": [
       "<Figure size 1000x700 with 1 Axes>"
      ]
     },
     "metadata": {},
     "output_type": "display_data"
    }
   ],
   "source": [
    "score_by_generation_violinplot(nia_search_2, run=1, ax=None, ylim=None)"
   ]
  },
  {
   "cell_type": "code",
   "execution_count": null,
   "metadata": {},
   "outputs": [],
   "source": [
    "# pd.DataFrame(nia_search_2.cv_results_)"
   ]
  },
  {
   "cell_type": "code",
   "execution_count": null,
   "metadata": {},
   "outputs": [],
   "source": [
    "# Retrain with best model\n",
    "best_cuckoo_2 = LogitBoost(**nia_search_2.best_params_)"
   ]
  },
  {
   "cell_type": "code",
   "execution_count": null,
   "metadata": {},
   "outputs": [],
   "source": [
    "all_hyp_2 = [best_random_search_2, best_hyperopt_2, best_optuna_2, best_cuckoo_2]\n",
    "for i in range(len(hyp_tunes)):\n",
    "    cldf_2 = find_reports(all_hyp_2[i], X_train_2, X_test_2, y_train_2, y_test_2)\n",
    "    m_2[i]= pd.to_numeric(cldf_2[metrics_hyp].values[-1])\n",
    "    dict_2[hyp_tunes[i]] = m_2[i]"
   ]
  },
  {
   "cell_type": "code",
   "execution_count": null,
   "metadata": {},
   "outputs": [
    {
     "name": "stdout",
     "output_type": "stream",
     "text": [
      "Technique matrix with total best reports: [0 0 3 0]\n",
      "Best Hyperparameter tuning Technique: Optuna\n"
     ]
    }
   ],
   "source": [
    "best_hyp_2 = best_max_find(np.array(m_2))\n",
    "print(\"Best Hyperparameter tuning Technique:\", hyp_tunes[best_hyp_2])"
   ]
  },
  {
   "cell_type": "code",
   "execution_count": null,
   "metadata": {},
   "outputs": [
    {
     "name": "stdout",
     "output_type": "stream",
     "text": [
      "Hyperparameter Tunings Classification Metrics DataFrame:\n"
     ]
    },
    {
     "data": {
      "text/html": [
       "<div>\n",
       "<style scoped>\n",
       "    .dataframe tbody tr th:only-of-type {\n",
       "        vertical-align: middle;\n",
       "    }\n",
       "\n",
       "    .dataframe tbody tr th {\n",
       "        vertical-align: top;\n",
       "    }\n",
       "\n",
       "    .dataframe thead th {\n",
       "        text-align: right;\n",
       "    }\n",
       "</style>\n",
       "<table border=\"1\" class=\"dataframe\">\n",
       "  <thead>\n",
       "    <tr style=\"text-align: right;\">\n",
       "      <th></th>\n",
       "      <th>Metrics</th>\n",
       "      <th>RandomizedSearchCV</th>\n",
       "      <th>Hyperopt</th>\n",
       "      <th>Optuna</th>\n",
       "      <th>Cuckoo Search</th>\n",
       "    </tr>\n",
       "  </thead>\n",
       "  <tbody>\n",
       "    <tr>\n",
       "      <th>0</th>\n",
       "      <td>Precision</td>\n",
       "      <td>0.961781</td>\n",
       "      <td>0.973567</td>\n",
       "      <td>0.976609</td>\n",
       "      <td>0.973567</td>\n",
       "    </tr>\n",
       "    <tr>\n",
       "      <th>1</th>\n",
       "      <td>Recall</td>\n",
       "      <td>0.961425</td>\n",
       "      <td>0.972559</td>\n",
       "      <td>0.976241</td>\n",
       "      <td>0.972559</td>\n",
       "    </tr>\n",
       "    <tr>\n",
       "      <th>2</th>\n",
       "      <td>Kappa</td>\n",
       "      <td>0.923199</td>\n",
       "      <td>0.946071</td>\n",
       "      <td>0.952841</td>\n",
       "      <td>0.946071</td>\n",
       "    </tr>\n",
       "  </tbody>\n",
       "</table>\n",
       "</div>"
      ],
      "text/plain": [
       "     Metrics  RandomizedSearchCV  Hyperopt    Optuna  Cuckoo Search\n",
       "0  Precision            0.961781  0.973567  0.976609       0.973567\n",
       "1     Recall            0.961425  0.972559  0.976241       0.972559\n",
       "2      Kappa            0.923199  0.946071  0.952841       0.946071"
      ]
     },
     "metadata": {},
     "output_type": "display_data"
    },
    {
     "data": {
      "image/png": "[encoded data removed]",
      "text/plain": [
       "<Figure size 1000x700 with 1 Axes>"
      ]
     },
     "metadata": {},
     "output_type": "display_data"
    }
   ],
   "source": [
    "plotdf_hyp_2 = pd.DataFrame(dict_2)\n",
    "groupBarPlot(plotname='Hyperparameter Tuning Techiniques', algoname=algoname_2, df=plotdf_hyp_2)\n",
    "print('Hyperparameter Tunings Classification Metrics DataFrame:') \n",
    "plotdf_hyp_2"
   ]
  },
  {
   "cell_type": "code",
   "execution_count": null,
   "metadata": {},
   "outputs": [
    {
     "data": {
      "text/html": [
       "<div>\n",
       "<style scoped>\n",
       "    .dataframe tbody tr th:only-of-type {\n",
       "        vertical-align: middle;\n",
       "    }\n",
       "\n",
       "    .dataframe tbody tr th {\n",
       "        vertical-align: top;\n",
       "    }\n",
       "\n",
       "    .dataframe thead th {\n",
       "        text-align: right;\n",
       "    }\n",
       "</style>\n",
       "<table border=\"1\" class=\"dataframe\">\n",
       "  <thead>\n",
       "    <tr style=\"text-align: right;\">\n",
       "      <th></th>\n",
       "      <th>Category</th>\n",
       "      <th>Precision</th>\n",
       "      <th>Recall</th>\n",
       "      <th>F1_Score</th>\n",
       "      <th>F1_Measure</th>\n",
       "      <th>Specificity</th>\n",
       "      <th>Negative_Predictive_Value</th>\n",
       "      <th>False_Positive_Rate</th>\n",
       "      <th>False_Negative_Rate</th>\n",
       "      <th>False_Discovery_Rate</th>\n",
       "      <th>Critical_Success_Index</th>\n",
       "      <th>Fowlkes_Mallows_Index</th>\n",
       "      <th>False_Omission_Rate</th>\n",
       "      <th>Positive_Likelihood_Ratio</th>\n",
       "      <th>Negative_Likelihood_Ratio</th>\n",
       "      <th>Prevalence_Threshold</th>\n",
       "      <th>Diagnostic_Odds_Ratio</th>\n",
       "      <th>Balanced_Accuracy</th>\n",
       "      <th>Mathews_Correlation_Coefficient</th>\n",
       "      <th>Bookmaker_Informedness</th>\n",
       "      <th>Markedness</th>\n",
       "      <th>Accuracy</th>\n",
       "      <th>Kappa</th>\n",
       "      <th>Support</th>\n",
       "    </tr>\n",
       "  </thead>\n",
       "  <tbody>\n",
       "    <tr>\n",
       "      <th>0</th>\n",
       "      <td>0</td>\n",
       "      <td>0.976331</td>\n",
       "      <td>0.972018</td>\n",
       "      <td>0.974170</td>\n",
       "      <td>0.974175</td>\n",
       "      <td>0.980464</td>\n",
       "      <td>0.976886</td>\n",
       "      <td>0.019536</td>\n",
       "      <td>0.027982</td>\n",
       "      <td>0.023669</td>\n",
       "      <td>0.949640</td>\n",
       "      <td>0.974172</td>\n",
       "      <td>0.023114</td>\n",
       "      <td>49.755155</td>\n",
       "      <td>0.028540</td>\n",
       "      <td>0.124166</td>\n",
       "      <td>1743.355263</td>\n",
       "      <td>0.976241</td>\n",
       "      <td>0.952849</td>\n",
       "      <td>0.952482</td>\n",
       "      <td>0.953217</td>\n",
       "      <td></td>\n",
       "      <td></td>\n",
       "      <td>679.0</td>\n",
       "    </tr>\n",
       "    <tr>\n",
       "      <th>1</th>\n",
       "      <td>1</td>\n",
       "      <td>0.976886</td>\n",
       "      <td>0.980464</td>\n",
       "      <td>0.978672</td>\n",
       "      <td>0.978675</td>\n",
       "      <td>0.972018</td>\n",
       "      <td>0.976331</td>\n",
       "      <td>0.027982</td>\n",
       "      <td>0.019536</td>\n",
       "      <td>0.023114</td>\n",
       "      <td>0.958234</td>\n",
       "      <td>0.978673</td>\n",
       "      <td>0.023669</td>\n",
       "      <td>35.038686</td>\n",
       "      <td>0.020098</td>\n",
       "      <td>0.144522</td>\n",
       "      <td>1743.355263</td>\n",
       "      <td>0.976241</td>\n",
       "      <td>0.952849</td>\n",
       "      <td>0.952482</td>\n",
       "      <td>0.953217</td>\n",
       "      <td></td>\n",
       "      <td></td>\n",
       "      <td>819.0</td>\n",
       "    </tr>\n",
       "    <tr>\n",
       "      <th>2</th>\n",
       "      <td>Macro_Avg</td>\n",
       "      <td>0.976609</td>\n",
       "      <td>0.976241</td>\n",
       "      <td>0.976421</td>\n",
       "      <td>0.976425</td>\n",
       "      <td>0.976241</td>\n",
       "      <td>0.976609</td>\n",
       "      <td>0.023759</td>\n",
       "      <td>0.023759</td>\n",
       "      <td>0.023391</td>\n",
       "      <td>0.953937</td>\n",
       "      <td>0.976423</td>\n",
       "      <td>0.023391</td>\n",
       "      <td>42.396921</td>\n",
       "      <td>0.024319</td>\n",
       "      <td>0.134344</td>\n",
       "      <td>1743.355263</td>\n",
       "      <td>0.976241</td>\n",
       "      <td>0.952849</td>\n",
       "      <td>0.952482</td>\n",
       "      <td>0.953217</td>\n",
       "      <td>0.976636</td>\n",
       "      <td>0.952841</td>\n",
       "      <td>1498.0</td>\n",
       "    </tr>\n",
       "  </tbody>\n",
       "</table>\n",
       "</div>"
      ],
      "text/plain": [
       "    Category  Precision    Recall  F1_Score  F1_Measure  Specificity  \\\n",
       "0          0   0.976331  0.972018  0.974170    0.974175     0.980464   \n",
       "1          1   0.976886  0.980464  0.978672    0.978675     0.972018   \n",
       "2  Macro_Avg   0.976609  0.976241  0.976421    0.976425     0.976241   \n",
       "\n",
       "   Negative_Predictive_Value  False_Positive_Rate  False_Negative_Rate  \\\n",
       "0                   0.976886             0.019536             0.027982   \n",
       "1                   0.976331             0.027982             0.019536   \n",
       "2                   0.976609             0.023759             0.023759   \n",
       "\n",
       "   False_Discovery_Rate  Critical_Success_Index  Fowlkes_Mallows_Index  \\\n",
       "0              0.023669                0.949640               0.974172   \n",
       "1              0.023114                0.958234               0.978673   \n",
       "2              0.023391                0.953937               0.976423   \n",
       "\n",
       "   False_Omission_Rate  Positive_Likelihood_Ratio  Negative_Likelihood_Ratio  \\\n",
       "0             0.023114                  49.755155                   0.028540   \n",
       "1             0.023669                  35.038686                   0.020098   \n",
       "2             0.023391                  42.396921                   0.024319   \n",
       "\n",
       "   Prevalence_Threshold  Diagnostic_Odds_Ratio  Balanced_Accuracy  \\\n",
       "0              0.124166            1743.355263           0.976241   \n",
       "1              0.144522            1743.355263           0.976241   \n",
       "2              0.134344            1743.355263           0.976241   \n",
       "\n",
       "   Mathews_Correlation_Coefficient  Bookmaker_Informedness  Markedness  \\\n",
       "0                         0.952849                0.952482    0.953217   \n",
       "1                         0.952849                0.952482    0.953217   \n",
       "2                         0.952849                0.952482    0.953217   \n",
       "\n",
       "   Accuracy     Kappa  Support  \n",
       "0                        679.0  \n",
       "1                        819.0  \n",
       "2  0.976636  0.952841   1498.0  "
      ]
     },
     "metadata": {},
     "output_type": "display_data"
    }
   ],
   "source": [
    "y_pred_2= all_hyp_2[best_hyp_2].predict(X_test_2)\n",
    "best_cldf_2, _ = classification_reports(y_test_2, y_pred_2)\n",
    "best_cldf_2"
   ]
  }
 ],
 "metadata": {
  "kernelspec": {
   "display_name": "Python 3",
   "language": "python",
   "name": "python3"
  },
  "language_info": {
   "codemirror_mode": {
    "name": "ipython",
    "version": 3
   },
   "file_extension": ".py",
   "mimetype": "text/x-python",
   "name": "python",
   "nbconvert_exporter": "python",
   "pygments_lexer": "ipython3",
   "version": "3.10.1"
  },
  "orig_nbformat": 4
 },
 "nbformat": 4,
 "nbformat_minor": 2
}
